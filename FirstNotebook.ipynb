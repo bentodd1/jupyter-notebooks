!pip install mysql-connector-python sqlalchemy pandas


import pandas as pd
from sqlalchemy import create_engine


username = 'root'  # Use your actual username
password = 'arc_root+123'   # Use your actual password
host = 'localhost'
database = 'arc'
connection_string = f'mysql+mysqlconnector://{username}:{password}@{host}/{database}'
engine = create_engine(connection_string)


query = """
SELECT m.name AS magazine_name, a2.name AS account_name, i.value, a3.*
FROM insertions i
JOIN ads a ON i.adId = a.id
JOIN contracts c ON a.contractId = c.id
JOIN accounts a2 ON c.accountId = a2.id
JOIN addresses a3 ON a2.addressId = a3.id
JOIN magazines m ON a.magazineId = m.id
WHERE i.month = 2 AND i.year = 2024 AND c.statusId = 5 AND i.value > 1500
ORDER BY m.name;
"""
df = pd.read_sql(query, engine)


print(df.head())


summary_stats = df.describe()
print(summary_stats)



